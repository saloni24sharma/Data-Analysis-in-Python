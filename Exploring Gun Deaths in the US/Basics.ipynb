{
 "cells": [
  {
   "cell_type": "markdown",
   "metadata": {},
   "source": [
    "The dataset came from [FiveThirtyEight](http://fivethirtyeight.com/), and can be found [here](https://github.com/fivethirtyeight/guns-data). The dataset is stored in the guns.csv file. It contains information on gun deaths in the US from 2012 to 2014. Each row in the dataset represents a single fatality. The columns contain demographic and other information about the victim. Here are the first few rows of the dataset:"
   ]
  },
  {
   "cell_type": "markdown",
   "metadata": {},
   "source": [
    "## Introducing Gun Deaths Data"
   ]
  },
  {
   "cell_type": "code",
   "execution_count": 1,
   "metadata": {
    "collapsed": false
   },
   "outputs": [
    {
     "name": "stdout",
     "output_type": "stream",
     "text": [
      "[['', 'year', 'month', 'intent', 'police', 'sex', 'age', 'race', 'hispanic', 'place', 'education'], ['1', '2012', '01', 'Suicide', '0', 'M', '34', 'Asian/Pacific Islander', '100', 'Home', '4'], ['2', '2012', '01', 'Suicide', '0', 'F', '21', 'White', '100', 'Street', '3'], ['3', '2012', '01', 'Suicide', '0', 'M', '60', 'White', '100', 'Other specified', '4'], ['4', '2012', '02', 'Suicide', '0', 'M', '64', 'White', '100', 'Home', '4']]\n"
     ]
    }
   ],
   "source": [
    "import csv\n",
    "f= open(\"guns.csv\", \"r\")\n",
    "data= csv.reader(f)\n",
    "data=list(data)\n",
    "print(data[0:5])"
   ]
  },
  {
   "cell_type": "code",
   "execution_count": 2,
   "metadata": {
    "collapsed": false
   },
   "outputs": [
    {
     "name": "stdout",
     "output_type": "stream",
     "text": [
      "['', 'year', 'month', 'intent', 'police', 'sex', 'age', 'race', 'hispanic', 'place', 'education']\n",
      "[['1', '2012', '01', 'Suicide', '0', 'M', '34', 'Asian/Pacific Islander', '100', 'Home', '4'], ['2', '2012', '01', 'Suicide', '0', 'F', '21', 'White', '100', 'Street', '3'], ['3', '2012', '01', 'Suicide', '0', 'M', '60', 'White', '100', 'Other specified', '4'], ['4', '2012', '02', 'Suicide', '0', 'M', '64', 'White', '100', 'Home', '4'], ['5', '2012', '02', 'Suicide', '0', 'M', '31', 'White', '100', 'Other specified', '2']]\n"
     ]
    }
   ],
   "source": [
    "header5= data[0]\n",
    "data=data[1:]\n",
    "print(header5)\n",
    "print(data[0:5])"
   ]
  },
  {
   "cell_type": "markdown",
   "metadata": {},
   "source": [
    "## Counting Gun Deaths by Year"
   ]
  },
  {
   "cell_type": "code",
   "execution_count": 3,
   "metadata": {
    "collapsed": false
   },
   "outputs": [
    {
     "name": "stdout",
     "output_type": "stream",
     "text": [
      "{'2012': 33563, '2014': 33599, '2013': 33636}\n"
     ]
    }
   ],
   "source": [
    "years= [each[1] for each in data]\n",
    "#print(years)\n",
    "year_counts={}\n",
    "for each in years:\n",
    "    if each in year_counts:\n",
    "        year_counts[each]= year_counts[each]+1\n",
    "    else:\n",
    "        year_counts[each]=1\n",
    "\n",
    "print(year_counts)"
   ]
  },
  {
   "cell_type": "markdown",
   "metadata": {},
   "source": [
    "It looks like gun deaths didn't change much by year from 2012 to 2014. Let's see if gun deaths in the US change by month and year."
   ]
  },
  {
   "cell_type": "markdown",
   "metadata": {},
   "source": [
    "## Gun Deaths by Month and Year"
   ]
  },
  {
   "cell_type": "code",
   "execution_count": 6,
   "metadata": {
    "collapsed": false
   },
   "outputs": [
    {
     "name": "stdout",
     "output_type": "stream",
     "text": [
      "[datetime.datetime(2012, 1, 1, 0, 0), datetime.datetime(2012, 1, 1, 0, 0), datetime.datetime(2012, 1, 1, 0, 0), datetime.datetime(2012, 2, 1, 0, 0), datetime.datetime(2012, 2, 1, 0, 0)]\n",
      "{datetime.datetime(2014, 7, 1, 0, 0): 2884, datetime.datetime(2013, 7, 1, 0, 0): 3079, datetime.datetime(2013, 6, 1, 0, 0): 2920, datetime.datetime(2013, 4, 1, 0, 0): 2798, datetime.datetime(2012, 11, 1, 0, 0): 2729, datetime.datetime(2012, 9, 1, 0, 0): 2852, datetime.datetime(2014, 8, 1, 0, 0): 2970, datetime.datetime(2013, 9, 1, 0, 0): 2742, datetime.datetime(2013, 12, 1, 0, 0): 2765, datetime.datetime(2012, 3, 1, 0, 0): 2743, datetime.datetime(2014, 10, 1, 0, 0): 2865, datetime.datetime(2012, 5, 1, 0, 0): 2999, datetime.datetime(2012, 7, 1, 0, 0): 3026, datetime.datetime(2012, 8, 1, 0, 0): 2954, datetime.datetime(2014, 9, 1, 0, 0): 2914, datetime.datetime(2012, 6, 1, 0, 0): 2826, datetime.datetime(2012, 10, 1, 0, 0): 2733, datetime.datetime(2014, 2, 1, 0, 0): 2361, datetime.datetime(2012, 1, 1, 0, 0): 2758, datetime.datetime(2013, 1, 1, 0, 0): 2864, datetime.datetime(2013, 5, 1, 0, 0): 2806, datetime.datetime(2014, 4, 1, 0, 0): 2862, datetime.datetime(2013, 10, 1, 0, 0): 2808, datetime.datetime(2014, 6, 1, 0, 0): 2931, datetime.datetime(2013, 3, 1, 0, 0): 2862, datetime.datetime(2013, 8, 1, 0, 0): 2859, datetime.datetime(2013, 2, 1, 0, 0): 2375, datetime.datetime(2012, 12, 1, 0, 0): 2791, datetime.datetime(2014, 12, 1, 0, 0): 2857, datetime.datetime(2013, 11, 1, 0, 0): 2758, datetime.datetime(2014, 3, 1, 0, 0): 2684, datetime.datetime(2012, 2, 1, 0, 0): 2357, datetime.datetime(2014, 5, 1, 0, 0): 2864, datetime.datetime(2014, 11, 1, 0, 0): 2756, datetime.datetime(2014, 1, 1, 0, 0): 2651, datetime.datetime(2012, 4, 1, 0, 0): 2795}\n"
     ]
    }
   ],
   "source": [
    "import datetime\n",
    "dates= [datetime.datetime(year=int(each[1]), month=int(each[2]), day=1) for each in data]\n",
    "print(dates[0:5])\n",
    "date_counts={}\n",
    "for each in dates:\n",
    "    if each in date_counts:\n",
    "        date_counts[each] = date_counts[each]+1\n",
    "    else:\n",
    "        date_counts[each]=1\n",
    "\n",
    "print(date_counts)"
   ]
  },
  {
   "cell_type": "markdown",
   "metadata": {},
   "source": [
    "## Exploring death counts by Sex and Race"
   ]
  },
  {
   "cell_type": "code",
   "execution_count": 7,
   "metadata": {
    "collapsed": false
   },
   "outputs": [
    {
     "name": "stdout",
     "output_type": "stream",
     "text": [
      "{'M': 86349, 'F': 14449}\n",
      "{'Hispanic': 9022, 'Black': 23296, 'White': 66237, 'Asian/Pacific Islander': 1326, 'Native American/Native Alaskan': 917}\n"
     ]
    }
   ],
   "source": [
    "sex_counts={}\n",
    "race_counts={}\n",
    "sex= [each[5] for each in data]\n",
    "race= [each[7] for each in data]\n",
    "for each in sex:\n",
    "    if each in sex_counts:\n",
    "        sex_counts[each]= sex_counts[each]+1\n",
    "    else:\n",
    "        sex_counts[each]=1\n",
    "\n",
    "for each in race:\n",
    "    if each in race_counts:\n",
    "        race_counts[each]= race_counts[each]+1\n",
    "    else:\n",
    "        race_counts[each]=1\n",
    "        \n",
    "print(sex_counts)\n",
    "print(race_counts)"
   ]
  },
  {
   "cell_type": "markdown",
   "metadata": {},
   "source": [
    "Gun deaths in the US seem to disproportionately affect men vs women. They also seem to disproportionately affect minorities, although having some data on the percentage of each race in the overall US population would help.\n",
    "\n",
    "There appears to be a minor seasonal correlation, with gun deaths peaking in the summer and declining in the winter. It might be useful to filter by intent, to see if different categories of intent have different correlations with season, race, or gender."
   ]
  },
  {
   "cell_type": "markdown",
   "metadata": {},
   "source": [
    "## Reading a second dataset"
   ]
  },
  {
   "cell_type": "code",
   "execution_count": 8,
   "metadata": {
    "collapsed": false
   },
   "outputs": [
    {
     "name": "stdout",
     "output_type": "stream",
     "text": [
      "[['Id', 'Year', 'Id', 'Sex', 'Id', 'Hispanic Origin', 'Id', 'Id2', 'Geography', 'Total', 'Race Alone - White', 'Race Alone - Hispanic', 'Race Alone - Black or African American', 'Race Alone - American Indian and Alaska Native', 'Race Alone - Asian', 'Race Alone - Native Hawaiian and Other Pacific Islander', 'Two or More Races'], ['cen42010', 'April 1, 2010 Census', 'totsex', 'Both Sexes', 'tothisp', 'Total', '0100000US', '', 'United States', '308745538', '197318956', '44618105', '40250635', '3739506', '15159516', '674625', '6984195']]\n"
     ]
    }
   ],
   "source": [
    "f1= open(\"census.csv\", \"r\")\n",
    "census= list(csv.reader(f1))\n",
    "print(census)"
   ]
  },
  {
   "cell_type": "markdown",
   "metadata": {},
   "source": [
    "## Computing Rates Of Gun Deaths Per Race"
   ]
  },
  {
   "cell_type": "code",
   "execution_count": 12,
   "metadata": {
    "collapsed": false
   },
   "outputs": [
    {
     "name": "stdout",
     "output_type": "stream",
     "text": [
      "{'Hispanic': 20.220491210910907, 'Native American/Native Alaskan': 24.521955573811088, 'White': 33.56849303419181, 'Asian/Pacific Islander': 8.374309664161762, 'Black': 57.8773477735196}\n"
     ]
    }
   ],
   "source": [
    "mapping={\n",
    "    \"Asian/Pacific Islander\":15834141,\n",
    "    \"Black\": 40250635,\n",
    "    \"Native American/Native Alaskan\":3739506,\n",
    "    \"Hispanic\":44618105,\n",
    "    \"White\":197318956\n",
    "}\n",
    "\n",
    "race_per_hundredk={}\n",
    "for each in race_counts:\n",
    "    race_per_hundredk[each]= (race_counts[each]/mapping[each])*100000\n",
    "\n",
    "print(race_per_hundredk)"
   ]
  },
  {
   "cell_type": "markdown",
   "metadata": {},
   "source": [
    "## Filtering by Intent"
   ]
  },
  {
   "cell_type": "code",
   "execution_count": 14,
   "metadata": {
    "collapsed": false
   },
   "outputs": [
    {
     "name": "stdout",
     "output_type": "stream",
     "text": [
      "{'Hispanic': 5634, 'Native American/Native Alaskan': 326, 'White': 9147, 'Asian/Pacific Islander': 559, 'Black': 19510}\n"
     ]
    }
   ],
   "source": [
    "intents= [each[3] for each in data]\n",
    "races= [each[7] for each in data]\n",
    "\n",
    "homicide_race_counts={}\n",
    "\n",
    "for i,race in enumerate(races):\n",
    "    if intents[i]==\"Homicide\":\n",
    "        if race in homicide_race_counts:\n",
    "            homicide_race_counts[race]= homicide_race_counts[race]+1\n",
    "        else:\n",
    "            homicide_race_counts[race]=1\n",
    "            \n",
    "\n",
    "homicide_race_per_hundredk={}\n",
    "for each in homicide_race_counts:\n",
    "    homicide_race_per_hundredk[each]= (homicide_race_counts[each]/mapping[each])*100000\n",
    "\n",
    "print(homicide_race_counts)"
   ]
  },
  {
   "cell_type": "code",
   "execution_count": 15,
   "metadata": {
    "collapsed": false
   },
   "outputs": [
    {
     "name": "stdout",
     "output_type": "stream",
     "text": [
      "{'12': 3191, '10': 2968, '08': 3125, '04': 2845, '01': 2829, '06': 3130, '05': 2976, '09': 2966, '03': 2780, '02': 2178, '07': 3269, '11': 2919}\n"
     ]
    }
   ],
   "source": [
    "months= [each[2] for each in data]\n",
    "\n",
    "homicide_month_counts={}\n",
    "for i,month in enumerate(months):\n",
    "    if intents[i]==\"Homicide\":\n",
    "        if month in homicide_month_counts:\n",
    "            homicide_month_counts[month]= homicide_month_counts[month]+1\n",
    "        else:\n",
    "            homicide_month_counts[month]=1\n",
    "            \n",
    "print(homicide_month_counts)"
   ]
  },
  {
   "cell_type": "code",
   "execution_count": 16,
   "metadata": {
    "collapsed": false
   },
   "outputs": [
    {
     "name": "stdout",
     "output_type": "stream",
     "text": [
      "{'M': 29803, 'F': 5373}\n"
     ]
    }
   ],
   "source": [
    "gender= [each[5] for each in data]\n",
    "\n",
    "homicide_gender_counts={}\n",
    "for i,g in enumerate(gender):\n",
    "    if intents[i]==\"Homicide\":\n",
    "        if g in homicide_gender_counts:\n",
    "            homicide_gender_counts[g]= homicide_gender_counts[g]+1\n",
    "        else:\n",
    "            homicide_gender_counts[g]=1\n",
    "            \n",
    "print(homicide_gender_counts)"
   ]
  },
  {
   "cell_type": "code",
   "execution_count": 18,
   "metadata": {
    "collapsed": false
   },
   "outputs": [
    {
     "name": "stdout",
     "output_type": "stream",
     "text": [
      "{'M': 1421, 'F': 218}\n",
      "{'Hispanic': 1, 'Native American/Native Alaskan': 1, 'White': 1, 'Asian/Pacific Islander': 1, 'Black': 1}\n"
     ]
    }
   ],
   "source": [
    "accidental_gender_counts={}\n",
    "accidental_race_counts={}\n",
    "\n",
    "for i,g in enumerate(gender):\n",
    "    if intents[i]==\"Accidental\":\n",
    "        if g in accidental_gender_counts:\n",
    "            accidental_gender_counts[g]= accidental_gender_counts[g]+1\n",
    "        else:\n",
    "            accidental_gender_counts[g]=1\n",
    "            \n",
    "for i,race in enumerate(races):\n",
    "    if intents[i]==\"Accidental\":\n",
    "        if g in accidental_race_counts:\n",
    "            accidental_race_counts[race]= accidental_race_counts[race]+1\n",
    "        else:\n",
    "            accidental_race_counts[race]=1\n",
    "            \n",
    "print(accidental_gender_counts)\n",
    "print(accidental_race_counts)"
   ]
  },
  {
   "cell_type": "code",
   "execution_count": 20,
   "metadata": {
    "collapsed": false
   },
   "outputs": [
    {
     "name": "stdout",
     "output_type": "stream",
     "text": [
      "{'Industrial/construction': 248, 'Sports': 128, 'Street': 11151, 'Trade/service area': 3439, 'Other specified': 13751, 'Home': 60486, 'NA': 1384, 'Farm': 470, 'Other unspecified': 8867, 'School/instiution': 671, 'Residential institution': 203}\n",
      "{'4': 12946, '3': 21680, 'NA': 53, '2': 42927, '1': 21823, '5': 1369}\n"
     ]
    }
   ],
   "source": [
    "places= [each[9] for each in data]\n",
    "education= [each[10] for each in data]\n",
    "\n",
    "place_counts={}\n",
    "education_counts={}\n",
    "\n",
    "for each in places:\n",
    "    if each in place_counts:\n",
    "        place_counts[each] = place_counts[each]+1\n",
    "    else:\n",
    "        place_counts[each]=1\n",
    "        \n",
    "for each in education:\n",
    "    if each in education_counts:\n",
    "        education_counts[each] = education_counts[each]+1\n",
    "    else:\n",
    "        education_counts[each]=1\n",
    "\n",
    "print(place_counts)\n",
    "print(education_counts)"
   ]
  },
  {
   "cell_type": "markdown",
   "metadata": {
    "collapsed": true
   },
   "source": [
    "## Findings:\n",
    "It appears that gun related homicides in the US disproportionately affect people in the Black and Hispanic racial categories.\n",
    "\n",
    "Some areas to investigate further:\n",
    "\n",
    "- The link between month and homicide rate.\n",
    "- Homicide rate by gender.\n",
    "- The rates of other intents by gender and race.\n",
    "- Gun death rates by location and education."
   ]
  },
  {
   "cell_type": "code",
   "execution_count": null,
   "metadata": {
    "collapsed": true
   },
   "outputs": [],
   "source": []
  }
 ],
 "metadata": {
  "kernelspec": {
   "display_name": "Python 3",
   "language": "python",
   "name": "python3"
  },
  "language_info": {
   "codemirror_mode": {
    "name": "ipython",
    "version": 3
   },
   "file_extension": ".py",
   "mimetype": "text/x-python",
   "name": "python",
   "nbconvert_exporter": "python",
   "pygments_lexer": "ipython3",
   "version": "3.4.3"
  }
 },
 "nbformat": 4,
 "nbformat_minor": 0
}
